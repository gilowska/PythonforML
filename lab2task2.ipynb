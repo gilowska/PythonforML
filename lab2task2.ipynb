{
  "nbformat": 4,
  "nbformat_minor": 0,
  "metadata": {
    "colab": {
      "provenance": [],
      "authorship_tag": "ABX9TyO3CtaKeiHYBYw7dc4E/ni8",
      "include_colab_link": true
    },
    "kernelspec": {
      "name": "python3",
      "display_name": "Python 3"
    },
    "language_info": {
      "name": "python"
    }
  },
  "cells": [
    {
      "cell_type": "markdown",
      "metadata": {
        "id": "view-in-github",
        "colab_type": "text"
      },
      "source": [
        "<a href=\"https://colab.research.google.com/github/gilowska/PythonforML/blob/for_variant/lab2task2.ipynb\" target=\"_parent\"><img src=\"https://colab.research.google.com/assets/colab-badge.svg\" alt=\"Open In Colab\"/></a>"
      ]
    },
    {
      "cell_type": "code",
      "execution_count": null,
      "metadata": {
        "id": "btW2IepkIQrX"
      },
      "outputs": [],
      "source": [
        "[1,2,3,4,5,6]"
      ]
    },
    {
      "cell_type": "code",
      "source": [
        "list = [1,2,3,4,5,6]\n",
        "\n",
        "for wyswietlanie in list:\n",
        "  print(wyswietlanie)"
      ],
      "metadata": {
        "colab": {
          "base_uri": "https://localhost:8080/"
        },
        "id": "Qmo4ArrGJ9F3",
        "outputId": "6468d031-d31e-4ced-ed16-6581b1818336"
      },
      "execution_count": 1,
      "outputs": [
        {
          "output_type": "stream",
          "name": "stdout",
          "text": [
            "1\n",
            "2\n",
            "3\n",
            "4\n",
            "5\n",
            "6\n"
          ]
        }
      ]
    }
  ]
}